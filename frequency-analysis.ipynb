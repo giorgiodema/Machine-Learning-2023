{
 "cells": [
  {
   "attachments": {},
   "cell_type": "markdown",
   "metadata": {},
   "source": [
    "# Discrete Fourier Transform\n",
    "Each signal f(x) can be decomposed into a weighted sum of sinusoids, that are called \"basis functions\". Since these basis functions are completely characterized by their magnitude and phase offset they are conveniently represented using complex numbers. \n",
    "$$\n",
    "\\rho e^{i\\theta} = \\rho(\\cos(\\theta) + i \\sin(\\theta)) \n",
    "$$"
   ]
  },
  {
   "attachments": {},
   "cell_type": "markdown",
   "metadata": {},
   "source": [
    "Given a discrete signal `f(x) = [x0, ... xN-1]` its discrete fourier transform (DFT) can be expressed as:\n",
    "$$\n",
    "F(X_k) = \\sum_{n=0}^{N-1}x_n e^{-\\frac{2\\pi i}{N}kn}\n",
    "$$\n",
    "\n",
    "The coefficient $X_k$ is the weight of the basis function with frequency $\\frac{2\\pi k}{N}$, and the original signal can be reconstructed summing all the basis functions with their associated weights.\n",
    "$$\n",
    "f(x) = \\frac{1}{N} \\sum_{k=0}^{N-1}X_k e^{\\frac{2\\pi i}{N}kn}\n",
    "$$"
   ]
  },
  {
   "attachments": {},
   "cell_type": "markdown",
   "metadata": {},
   "source": [
    "## Spatial DFT\n",
    "The frequency analysis can be also extended to two dimensional signals like images. For example consider a grayscale image, it can be expressed as a discrete function f over a 2D grid that associates a grey value in the range [0,1] to each pixel in the grid.\n",
    "$$\n",
    "f x\\in[0,W] \\times y\\in[0,H] \\rightarrow f(x,y) \\in [0,1]\n",
    "$$\n",
    "where W and H are respectively the image width and height expressed in number of pixels.\n",
    "The only difference is that instead of 1D complex sinusoid the signal F can be decomposed into a sum of 2D complex sinusoids:\n",
    "$$\n",
    "\\rho e^{i(u + v)} = \\rho (\\cos(u + v) + i \\sin(u + v))\n",
    "$$\n",
    "So the 2D DFT becomes:\n",
    "$$\n",
    "F(u,v) = \\sum_{x = 0}^{N-1} \\sum_{y=0}^{N-1} f(x,y) e^{-\\frac{2\\pi i(ux + vy)}{N}}\n",
    "$$\n",
    "and the original signal can be reconstructed from the DFT coefficients as:\n",
    "$$\n",
    "f(x,y) = \\frac{1}{N}\\sum_{u=0}^{N-1}\\sum_{v=0}^{N-1}e^{\\frac{2\\pi i(ux + vy)}{N}}\n",
    "$$\n"
   ]
  },
  {
   "cell_type": "code",
   "execution_count": null,
   "metadata": {},
   "outputs": [],
   "source": []
  }
 ],
 "metadata": {
  "language_info": {
   "name": "python"
  },
  "orig_nbformat": 4
 },
 "nbformat": 4,
 "nbformat_minor": 2
}
