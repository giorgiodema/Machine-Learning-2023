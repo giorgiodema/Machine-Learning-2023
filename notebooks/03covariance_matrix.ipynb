{
 "cells": [
  {
   "attachments": {},
   "cell_type": "markdown",
   "metadata": {},
   "source": [
    "# Covariance Matrix\n",
    "Before going further, we introduce the Covariance Matrix, that is a fundamental tool both in machine learning and data science."
   ]
  },
  {
   "attachments": {},
   "cell_type": "markdown",
   "metadata": {},
   "source": [
    "## Expected Value and Variance\n",
    "Let us first recap the concepts of Expected value (or mean) and Variance.\n",
    "The expected value of a probability distribution is the weighted average of the outcomes weighted by their probability:\n",
    "$$\n",
    "E[X] = \\sum_x x Pr(X=x)\n",
    "$$\n",
    "If we want to estimate the expected value of the distribution from sampled data (a dataset D) we can compute the average:\n",
    "$$\n",
    "E[D] = \\frac{1}{N}\\sum_{x\\in D} x \\quad\\quad \\text{with}\\quad N = |D|\n",
    "$$\n",
    "This equation holds also for multivariate distributions, where a multivariate distribution is a joint distribution of multiple random variables (or random vector). In this case the mean is a vector where each component is the mean of a random variable.\n",
    "An important property of the mean is that it is __linear__:\n",
    "$$\n",
    "E[a X + b Y] = aE[X] + bE[Y]\n",
    "$$\n",
    "where X and Y are random variables and a,b are constants.\n",
    "While the expected value tells what is the \"average outcome\" of the random variable the variace tells, in average, how much the outcomes differs from the expected value:\n",
    "$$\n",
    "Var[X] = E[(X-E[X])^2]\n",
    "$$"
   ]
  },
  {
   "attachments": {},
   "cell_type": "markdown",
   "metadata": {},
   "source": [
    "## Covariance Matrix\n",
    "We already introduced the covariance as the linear association or relationship between two random variables:\n",
    "$$\n",
    "Cov(X,Y) = Cov(Y,X) = E[(X-E[X])(Y-E[Y])]\n",
    "$$\n",
    "Now we will see a more useful interpretation.\n",
    "Assume we have some data samples in a feature space $R^D$ sampled from the same distribution, we can model each feature as a random variable and the data distribution as a multivariate distribution. Since we have multiple directions in the feature space, we could ask what is the variance of the random variable obtained projecting the random vector onto a given direction?\n",
    "\n",
    "If I take a unit norm vector __v__ to denote the direction, then the projection of the random vector __x__ onto the direction __v__ is:\n",
    "$$\n",
    "\\text{proj}_{\\mathbf{v}} \\mathbf{x} = \\mathbf{v} \\cdot \\mathbf{x} = \\mathbf{v}^T \\mathbf{x}\n",
    "$$ \n",
    "Hence the projection is a new random $z = \\mathbf{v}^T \\mathbf{x}$ which is the linear combination of the components of the random vector __x__.\n",
    "If we compute the variance of the new random variable z we obtain\n",
    "$$\n",
    "\\begin{align}\n",
    "Var(z) =& Var(\\mathbf{v}^T \\mathbf{x}) = \\\\\n",
    "& E[(\\mathbf{v}^T \\mathbf{x}- E[\\mathbf{v}^T \\mathbf{x}])^2] = \\\\\n",
    "& E[(\\mathbf{v}^T(\\mathbf{x}-E[\\mathbf{x}]))^2] = \\\\\n",
    "& E[(\\mathbf{v}^T(\\mathbf{x}- E[\\mathbf{x}]))(\\mathbf{v}^T(\\mathbf{x}- E[\\mathbf{x}]))] = \\\\\n",
    "& E[(\\mathbf{v}^T(\\mathbf{x}- E[\\mathbf{x}]))(\\mathbf{v}^T(\\mathbf{x}- E[\\mathbf{x}]))^T] = \\\\\n",
    "& E[\\mathbf{v}^T(\\mathbf{x}-E[\\mathbf{x}])(\\mathbf{x}-E[\\mathbf{x}])^T\\mathbf{v}] = \\\\\n",
    "& \\mathbf{v}^T E[(\\mathbf{x}-E[\\mathbf{x}])(\\mathbf{x}-E[\\mathbf{x}])^T]\\mathbf{v}\n",
    "\n",
    "\\end{align}\n",
    "$$\n",
    "Now if we expand the matrix product inside the expectation we obtain:\n",
    "$$\n",
    "Var(\\mathbf{v}^T \\mathbf{x}) = \n",
    "\\mathbf{v}^T\n",
    "\\begin{pmatrix}\n",
    "Cov(x_1,x_1) & . . . & Cov(x_1,x_d) \\\\\n",
    "... & ... & ...\\\\\n",
    "Cov(x_d,x_1) & ... & Cov(x_d,x_d)\n",
    "\\end{pmatrix}\n",
    "\\mathbf{v}\n",
    " = \\mathbf{v}^T \\Sigma \\mathbf{v}\n",
    "$$\n",
    "\n",
    "Where the matrix $\\Sigma$ is called covariance matrix.\n",
    "Let us see some examples."
   ]
  },
  {
   "cell_type": "code",
   "execution_count": 1,
   "metadata": {},
   "outputs": [],
   "source": [
    "import numpy as np\n",
    "%matplotlib inline\n",
    "import matplotlib.pyplot as plt"
   ]
  },
  {
   "cell_type": "code",
   "execution_count": 2,
   "metadata": {},
   "outputs": [
    {
     "data": {
      "text/plain": [
       "array([[0.2   , 0.082 ],\n",
       "       [0.082 , 0.0401]])"
      ]
     },
     "execution_count": 2,
     "metadata": {},
     "output_type": "execute_result"
    }
   ],
   "source": [
    "# let us draw some samples from a 2D distribution \n",
    "# with covariance matrix cov\n",
    "N = 10000\n",
    "mu = [0.,0.]\n",
    "cov = np.asarray([[.4, .2],\n",
    "        [.2, .01]])\n",
    "cov = cov @ np.transpose(cov)\n",
    "cov"
   ]
  },
  {
   "cell_type": "code",
   "execution_count": 3,
   "metadata": {},
   "outputs": [
    {
     "data": {
      "image/png": "[encoded data removed]",
      "text/plain": [
       "<Figure size 640x480 with 1 Axes>"
      ]
     },
     "metadata": {},
     "output_type": "display_data"
    }
   ],
   "source": [
    "X = np.random.multivariate_normal(mean=mu,cov=cov,size=N//2)\n",
    "fig,ax = plt.subplots()\n",
    "ax.scatter(x=X[:,0],y=X[:,1],c=\"b\")\n",
    "plt.show()"
   ]
  },
  {
   "cell_type": "code",
   "execution_count": 4,
   "metadata": {},
   "outputs": [
    {
     "data": {
      "application/vnd.jupyter.widget-view+json": {
       "model_id": "d9692c32a174425eaa2cf021b48ea40e",
       "version_major": 2,
       "version_minor": 0
      },
      "text/plain": [
       "interactive(children=(IntSlider(value=45, description='theta', max=360), Output()), _dom_classes=('widget-inte…"
      ]
     },
     "metadata": {},
     "output_type": "display_data"
    }
   ],
   "source": [
    "# now we compute the variance in the direction\n",
    "# given by the angle theta\n",
    "import ipywidgets as widgets\n",
    "@widgets.interact(theta=(0,360))\n",
    "def show_variance(theta=45):\n",
    "    theta = 2*np.pi*(theta/360)\n",
    "    v = np.asarray([np.cos(theta),np.sin(theta)])\n",
    "    variance = np.transpose(v) @ cov @ v\n",
    "    fig,ax = plt.subplots()\n",
    "    fig.suptitle(f\"variance = {variance:2f}\")\n",
    "    ax.scatter(x=X[:,0],y=X[:,1],c=\"b\")\n",
    "    # plot the direction scaled by the\n",
    "    # variance\n",
    "    ax.arrow(\n",
    "        x=0,y=0,\n",
    "        dx=v[0] * variance,\n",
    "        dy=v[1] * variance,\n",
    "        color=\"r\",width=.01)\n",
    "    plt.show()\n",
    "    \n",
    "    "
   ]
  }
 ],
 "metadata": {
  "kernelspec": {
   "display_name": "tf-gpu",
   "language": "python",
   "name": "python3"
  },
  "language_info": {
   "codemirror_mode": {
    "name": "ipython",
    "version": 3
   },
   "file_extension": ".py",
   "mimetype": "text/x-python",
   "name": "python",
   "nbconvert_exporter": "python",
   "pygments_lexer": "ipython3",
   "version": "3.9.13"
  },
  "orig_nbformat": 4
 },
 "nbformat": 4,
 "nbformat_minor": 2
}
