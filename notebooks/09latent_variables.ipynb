{
 "cells": [
  {
   "attachments": {},
   "cell_type": "markdown",
   "metadata": {},
   "source": [
    "# Latent Variable Models\n",
    "Latent variable models are unsupervised techniques that allow to estimate complex probability distributions from simpler ones. In particular they introduce some latent variables (variables that are not directly observed) and define a joint distribution over observed and latent variables. Then the distribution over the observed variables (the one we are interested in) is obtaine through marginalization. This technique allows to express a complex marginal distribution using a simpler joint distribution over the expanded space of observed and latent variables."
   ]
  },
  {
   "attachments": {},
   "cell_type": "markdown",
   "metadata": {},
   "source": [
    "## Gaussian Mixture Model\n",
    "One of the most used latent variable model is the Gaussian Mixture Model (GMM), in which we use gaussian distributions to model the joint and conditional distributions. First we introduce the latent random vector $\\mathbf{z} = (z_1,...,z_k)^T$ as:\n",
    "$$\n",
    "p(\\mathbf{z}) = \n",
    "\\begin{cases}\n",
    "\\pi_1 \\quad\\text{if}\\quad z_1 = 1 \\\\\n",
    "\\pi_2 \\quad\\text{if}\\quad z_2 = 1 \\\\\n",
    ".\\\\\n",
    ".\\\\\n",
    "\\pi_k \\quad\\text{if}\\quad z_k = 1\n",
    "\\end{cases}\n",
    "$$\n",
    "Using a one-hot encoding the probability distribution over the latent variables can be also written as:\n",
    "$$\n",
    "p(\\mathbf{z}) = \\prod_{i=1}^k \\pi_i^{z_i}\n",
    "$$\n",
    "In the following we will use this one-hot representation and we will denote with $\\mathbf{z}$ the random vector and with $z_i$ the $i^{\\text{th}}$ component of the random vector.\n",
    "Once we have defined the latent distribution (distribution over the latent random variables) we can define the conditional distribution:\n",
    "$$\n",
    "p(\\mathbf{x}|\\mathbf{z}) = \\prod_{i=1}^k N(\\mathbf{x} | \\mu_k,\\Sigma_k)^{z_k}\n",
    "$$\n",
    "The distribution over the observed variables is obtained through marginalization (summing over all possible states of z):\n",
    "$$\n",
    "p(\\mathbf{x}) = \\sum_z p(\\mathbf{z}) p(\\mathbf{x}|\\mathbf{z}) = \\sum_{i=1}^k \\pi_k N(\\mathbf{x}|\\mu_k,\\Sigma_k)\n",
    "$$\n",
    "We can interpret the GMM as follows: we use k gaussians to explain the data, the distribution over the latent variables is the prior distribution over the k gaussians, while the conditional distribution expresses the probability that an observation is explained by a specific gaussian. The marginal distribution instead uses all the gaussians, wheighted by their probabilities to explain the observation (in a pure Bayesian approach, but we will come back to this in another lecture).\n",
    "Anothe rimportant term is the __responsibility__ that measures the responsibility that the $k^{\\text{th}}$ component takes in explaining the observation x:\n",
    "$$\n",
    "\\gamma(z_{nk}) = p(z_k=1 |\\mathbf{x_n}) = \\frac{\\pi_k N(x_n|\\mu_k,\\Sigma_j)}{\\sum_j \\pi_j N(x_n|\\mu_j,\\Sigma_j)}\n",
    "$$\n",
    "Given a dataset with the observed variables:\n",
    "$$\n",
    "\\mathbb{X} = \\begin{pmatrix}\n",
    "- x_1 - \\\\\n",
    "- x_2 - \\\\\n",
    "...\\\\\n",
    "...\\\\\n",
    "- x_n -\n",
    "\\end{pmatrix}\n",
    "$$\n",
    "We want to maximize the log likelihood of the marginal distribution (distribution over the observed variables):\n",
    "$$\n",
    "\\begin{matrix}max\\\\ \\mathbf{\\pi},\\mathbf{\\mu},\\mathbf{\\Sigma}\\end{matrix}\\quad ln(p(\\mathbb{X}|\\mathbf{\\pi},\\mathbf{\\mu},\\mathbf{\\Sigma})) = \\sum_{i=1}^N ln\\{ \\sum_{k=1}^K \\pi_k N(x_n | \\mathbf{\\mu_k},\\Sigma_k) \\}\n",
    "$$\n",
    "The minimization of the log likelihood does not admit a closed form solution. While gradient-based techniques are feasible usually this model is optimized through the Expectation Maximization (EM) algorithm that consists in the following steps:\n",
    "- 1) __Initialization__: Initialize $\\mu_1,...,\\mu_k$ amd $\\Sigma_1,...,\\Sigma_k$ (either at random or better using kmeans, where $\\Sigma_k$ is the sample covariance matrix of the kth cluster)\n",
    "- 2) __E step__: Compute the responsibilities using the current values of the parameters\n",
    "- 3) __M step__: Estimate the values of the parameters using the current values of the responsibilities\n",
    "- 4) Compute the log likelihood with the current value of the parameters $L_t$ and repeat steps 2) to 4) untill $|L_t - L_{t-1}| < \\epsilon$"
   ]
  },
  {
   "attachments": {},
   "cell_type": "markdown",
   "metadata": {},
   "source": [
    "## Example\n",
    "All the concepts we have seen so far are best understood through an example.\n",
    "Let's assume for simplicity we have a 1D dataset recording the height of the students in the university. Using the terminology we have introduced so far, the height is the __observed variable__ however we know that there is at least one __unobsered variable__ that could help us model the probability distribution over our data: the gender. Indeed we know that the distribution of the male students is different from the distribution of the female students. So we could model the gender with the unobservable vector $z$ where:\n",
    "$$\n",
    "p(z) = \\begin{cases}\n",
    "\\pi_0 \\quad if \\quad \\mathbf{z} = 0 \\\\\n",
    "\\pi_1 \\quad if \\quad \\mathbf{z} = 1\n",
    "\\end{cases} \n",
    "$$\n",
    "Note that we do not know neither the latent distribution nor the conditional and marginal distributions, but estimate them from the data."
   ]
  },
  {
   "attachments": {},
   "cell_type": "markdown",
   "metadata": {},
   "source": [
    "First we create a syntetic dataset. We assume that males are tall on average 1.75 m with a standard deviation of 0.12 m while females are tall on average 1.65 m with a standard deviation of 0.08 m.\n",
    "These are reasonable assumptions considering that for an approximately normal data set, the values within one standard deviation of the mean account for about 68% of the set; while within two standard deviations account for about 95%; and within three standard deviations account for about 99.7%.\n",
    "We create a dataset with 1000 females and 700 males."
   ]
  },
  {
   "attachments": {},
   "cell_type": "markdown",
   "metadata": {},
   "source": [
    "It is important to note that these parameters (average hight, standard deviation and number of males and female) __are unknown__. We are using known values to generate a syntetic dataset since we do not have a real one."
   ]
  },
  {
   "cell_type": "code",
   "execution_count": 24,
   "metadata": {},
   "outputs": [
    {
     "data": {
      "image/png": "[encoded data removed]",
      "text/plain": [
       "<Figure size 1000x500 with 2 Axes>"
      ]
     },
     "metadata": {},
     "output_type": "display_data"
    }
   ],
   "source": [
    "import numpy as np\n",
    "import sklearn\n",
    "%matplotlib inline\n",
    "import matplotlib.pyplot as plt\n",
    "\n",
    "females = np.random.normal(loc=1.65,scale=0.08,size=2000)\n",
    "males = np.random.normal(loc=1.75,scale=0.12,size=1400)\n",
    "\n",
    "X = np.concatenate([females,males],axis=0)\n",
    "fig,ax = plt.subplots(1,2)\n",
    "fig.set_size_inches(10,5)\n",
    "ax[0].hist(females,bins=100,range=(np.min(X),np.max(X)),color='r')\n",
    "ax[0].hist(males,bins=100,range=(np.min(X),np.max(X)),color='b')\n",
    "ax[0].set_title(\"Males and Females Height Distribution\")\n",
    "ax[1].hist(X,bins=100,range=(np.min(X),np.max(X)))\n",
    "ax[1].set_title(\"Students Height Distribution\")\n",
    "plt.show()\n"
   ]
  },
  {
   "attachments": {},
   "cell_type": "markdown",
   "metadata": {},
   "source": [
    "Remember that in a real scenario we have only the data matrix X."
   ]
  },
  {
   "cell_type": "code",
   "execution_count": 25,
   "metadata": {},
   "outputs": [
    {
     "name": "stdout",
     "output_type": "stream",
     "text": [
      "z \t= [0.36906412 0.63093588]\n",
      "mu \t= [1.76994937 1.6393211 ]\n",
      "sigma \t= [0.0114709  0.00640643]\n"
     ]
    }
   ],
   "source": [
    "from sklearn.mixture import GaussianMixture\n",
    "\n",
    "X = X[:,None]\n",
    "gmm = GaussianMixture(\n",
    "    n_components=2,\n",
    "    covariance_type=\"full\"\n",
    ")\n",
    "gmm.fit(X)\n",
    "pi = gmm.weights_\n",
    "mu = np.reshape(gmm.means_,-1)\n",
    "sigma = np.reshape(gmm.covariances_,-1)\n",
    "print(f\"z \\t= {pi}\")\n",
    "print(f\"mu \\t= {mu}\")\n",
    "print(f\"sigma \\t= {sigma}\")"
   ]
  },
  {
   "attachments": {},
   "cell_type": "markdown",
   "metadata": {},
   "source": [
    "After training the model I can answer the following questions:\n",
    "\n",
    "1) What is the probability of picking a male or a female? This question is asking for the latent distribution $p(z)$, that is the distribution of the latent variables"
   ]
  },
  {
   "cell_type": "code",
   "execution_count": 26,
   "metadata": {},
   "outputs": [
    {
     "name": "stdout",
     "output_type": "stream",
     "text": [
      "p(z) = [0.36906412 0.63093588]\n"
     ]
    }
   ],
   "source": [
    "print(f\"p(z) = {gmm.weights_}\")"
   ]
  },
  {
   "attachments": {},
   "cell_type": "markdown",
   "metadata": {},
   "source": [
    "I do not know which is the latent variable that represents gender male or gender female, however if I know that there are more female students than male students then I infer that $z_0$ is the latent variable associated with male gender while $z_1$ is the random variable associated with female gender."
   ]
  },
  {
   "attachments": {},
   "cell_type": "markdown",
   "metadata": {},
   "source": [
    "2) Given that a person has height $h$ what is the probability that he/she is male or female? Here I can answer looking at the conditional probability $p(\\mathbf{z}|\\mathbf{x})$ as follows:\n",
    "$$\n",
    "p(\\text{male} | x = h) = \\gamma(z_{h0}) = \\frac{\\pi_0 N(h|\\mu_0,\\Sigma_0)}{\\sum_j \\pi_j N(h|\\mu_j,\\Sigma_j)}\n",
    "$$\n",
    "$$\n",
    "p(\\text{female} | x = h) = \\gamma(z_{h1}) = \\frac{\\pi_1 N(h|\\mu_1,\\Sigma_1)}{\\sum_j \\pi_j N(h|\\mu_j,\\Sigma_j)}\n",
    "$$"
   ]
  },
  {
   "attachments": {},
   "cell_type": "markdown",
   "metadata": {},
   "source": [
    "3) What is the probability that a male student or a female student has height h?"
   ]
  },
  {
   "attachments": {},
   "cell_type": "markdown",
   "metadata": {},
   "source": [
    "4) What is the probability that a student picked at random has height h?"
   ]
  }
 ],
 "metadata": {
  "kernelspec": {
   "display_name": "tf-gpu",
   "language": "python",
   "name": "python3"
  },
  "language_info": {
   "codemirror_mode": {
    "name": "ipython",
    "version": 3
   },
   "file_extension": ".py",
   "mimetype": "text/x-python",
   "name": "python",
   "nbconvert_exporter": "python",
   "pygments_lexer": "ipython3",
   "version": "3.9.13"
  },
  "orig_nbformat": 4
 },
 "nbformat": 4,
 "nbformat_minor": 2
}
