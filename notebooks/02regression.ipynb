{
 "cells": [
  {
   "attachments": {},
   "cell_type": "markdown",
   "metadata": {},
   "source": [
    "# Regression\n",
    "## Linear Regression\n",
    "Let us start from the simple case in which we want to approximate our target function with a line. We have a dataset D with n pairs:\n",
    "$$\n",
    "D = \\{(x_1,y_1), ... ,(x_N,y_N)\\}\n",
    "$$\n",
    "and we want to approximate the targets as a linear function of the input:\n",
    "$$\n",
    "\\hat{y_i} = a x_i + b \n",
    "$$\n",
    "## Closed form Solution\n",
    "From the previous lecture we saw that for the regression problems we need to minimize the Mean Squared Error (MSE) between the predicted values and the targets with respect to the model parameters:\n",
    "$$\n",
    "MSE = \\frac{1}{2} \\sum_{n=1}^N (y_n - \\hat{y}_n)^2\n",
    "$$\n",
    "In our case the model is just a line, with parameters a and b:\n",
    "\n",
    "To simplify the calculations let us call __w__ the vector with the parameters of the model:\n",
    "$$\n",
    "\\mathbf{w} = \\begin{pmatrix} b \\\\ a \\end{pmatrix}\n",
    "$$\n",
    "Let us also write the points in the domain in vector notation:\n",
    "$$\n",
    "\\mathbf{x_i} = \\begin{pmatrix} 1 \\\\ x_i\\end{pmatrix}\n",
    "$$\n",
    "Now let us introduce the vector __y__ with the target values of each point in the dataset:\n",
    "$$\n",
    "\\mathbf{y} = \\begin{pmatrix}y_1 \\\\ ... \\\\ y_n\\end{pmatrix}\n",
    "$$\n",
    "and the matrix $\\mathbb{X}$ which rows are the points in the domain:\n",
    "$$\n",
    "\\mathbb{X} = \\begin{pmatrix}1 & x_1 \\\\ 1 & x_2 \\\\ . & . \\\\ . & . \\\\ 1 & x_n\\end{pmatrix}\n",
    "$$\n",
    "Now we can write the cost function in vector notation:\n",
    "$$\n",
    "L_D(\\mathbf{w}) = \\frac{1}{2} \\sum_{n=1}^N (y_n - \\mathbf{w}^T \\mathbf{x_n})^2 = || \\mathbf{y} - \\mathbb{X} \\mathbf{w} ||^2\n",
    "$$\n",
    "The function L is a convex function with respect to the parameters, hence we can find the minimum by solving the linear system of equations:\n",
    "$$\n",
    "\\nabla_{\\mathbf{w}}L = 0\n",
    "$$\n",
    "We are in the lucky case in which the solution to this system can be computed in closed form. Lets walk through the computation:\n",
    "$$\n",
    "\\nabla_{\\mathbf{w}}L = -2 \\mathbf{X}^T (\\mathbf{y}-\\mathbb{X}\\mathbf{w}) = 0\n",
    "$$\n",
    "$$\n",
    "\\mathbf{w} = (\\mathbb{X}^T\\mathbb{X})^{-1}\\mathbb{X}\\mathbf{y}\n",
    "$$\n"
   ]
  },
  {
   "cell_type": "code",
   "execution_count": null,
   "metadata": {},
   "outputs": [],
   "source": []
  }
 ],
 "metadata": {
  "language_info": {
   "name": "python"
  },
  "orig_nbformat": 4
 },
 "nbformat": 4,
 "nbformat_minor": 2
}
