{
 "cells": [
  {
   "attachments": {},
   "cell_type": "markdown",
   "metadata": {},
   "source": [
    "# Bayesian Inference\n",
    "This animation illustrates the example of bayesian inference presented [here](../slides/06_bayesian_learning.pdf). On the bottom we have the likelihood, i.e. the probability of observing x given the hypothesis. This is a discrete distribution over 3 values (we have 3 kinds of candies). The plot shows how the posterior probabilities evolve as I continue to sample data from a box (hypothesis) selected at random. The selected hypothesis (from which we sample data) is indicated in the title.\n",
    "\n",
    "I thank Simone Spadoni for the animation."
   ]
  },
  {
   "cell_type": "code",
   "execution_count": 4,
   "metadata": {},
   "outputs": [],
   "source": [
    "from bayesian import animate\n",
    "import random"
   ]
  },
  {
   "cell_type": "code",
   "execution_count": 5,
   "metadata": {},
   "outputs": [],
   "source": [
    "%%capture\n",
    "an = animate()\n",
    "r = random.randint(0,1000)\n",
    "an.save(f\"./tmp/{r}animation.gif\")"
   ]
  },
  {
   "cell_type": "code",
   "execution_count": 6,
   "metadata": {},
   "outputs": [
    {
     "data": {
      "text/html": [
       "<p align=\"center\"><img src=\"./tmp/106animation.gif\"/ width=80%></p>"
      ],
      "text/plain": [
       "<IPython.core.display.HTML object>"
      ]
     },
     "metadata": {},
     "output_type": "display_data"
    }
   ],
   "source": [
    "from IPython.display import HTML, display\n",
    "display(HTML(f'<p align=\"center\"><img src=\"./tmp/{r}animation.gif\"/ width=80%></p>'))"
   ]
  }
 ],
 "metadata": {
  "kernelspec": {
   "display_name": "dl",
   "language": "python",
   "name": "python3"
  },
  "language_info": {
   "codemirror_mode": {
    "name": "ipython",
    "version": 3
   },
   "file_extension": ".py",
   "mimetype": "text/x-python",
   "name": "python",
   "nbconvert_exporter": "python",
   "pygments_lexer": "ipython3",
   "version": "3.9.16"
  },
  "orig_nbformat": 4
 },
 "nbformat": 4,
 "nbformat_minor": 2
}
