{
 "cells": [
  {
   "attachments": {},
   "cell_type": "markdown",
   "metadata": {},
   "source": [
    "# Numpy\n",
    "Numpy is a python library that allows to manipulate arrays. An array in programming is a sequence of contiguous cells in memory that can store elements of the same type. With respect to lists, in which elements are not contiguous, they allow a fast access to the elements when the array is scanned in order.\n",
    "I can also define multidimensional arrays. For example, assume that I want to create a 3 dimensional array __v__ with shape (2,3,4). The shape of an array tells me the number of elements for each dimension of the array. Let us analyze what does it mean with the previous example:\n",
    "\n",
    "__v__ has two elements in the first dimension, 3 elements in the second dimension and 4 elements in the fourth dimension meaning that each element of __v__, `v[i]` is another array with two dimensions, and each element of the second array, `v[i,j]` is another array of 4 elements.\n",
    "\n",
    "The picture shows how the array is stored in memory:\n",
    "<p align=center>\n",
    "<img src=../imgs/02_md_array.png width=50%>\n",
    "</p>\n"
   ]
  },
  {
   "attachments": {},
   "cell_type": "markdown",
   "metadata": {},
   "source": [
    "## Indexing"
   ]
  },
  {
   "cell_type": "code",
   "execution_count": 1,
   "metadata": {},
   "outputs": [],
   "source": [
    "import numpy as np"
   ]
  },
  {
   "cell_type": "code",
   "execution_count": 2,
   "metadata": {},
   "outputs": [
    {
     "data": {
      "text/plain": [
       "(2, 3, 4)"
      ]
     },
     "execution_count": 2,
     "metadata": {},
     "output_type": "execute_result"
    }
   ],
   "source": [
    "# initialize a new array and fill it with ones\n",
    "a = np.ones(shape=(2,3,4),dtype=np.int32)\n",
    "a.shape"
   ]
  },
  {
   "cell_type": "code",
   "execution_count": 7,
   "metadata": {},
   "outputs": [
    {
     "name": "stdout",
     "output_type": "stream",
     "text": [
      "((2, 3, 4), dtype('int32'))\n"
     ]
    },
    {
     "data": {
      "text/plain": [
       "array([[[111, 112, 113, 114],\n",
       "        [121, 122, 123, 124],\n",
       "        [131, 132, 133, 134]],\n",
       "\n",
       "       [[211, 212, 213, 214],\n",
       "        [221, 222, 223, 224],\n",
       "        [231, 232, 233, 234]]], dtype=int32)"
      ]
     },
     "execution_count": 7,
     "metadata": {},
     "output_type": "execute_result"
    }
   ],
   "source": [
    "# i can also initialize an array from a Python list\n",
    "v = np.asarray([\n",
    "            [[111,112,113,114],[121,122,123,124],[131,132,133,134]],\n",
    "            [[211,212,213,214],[221,222,223,224],[231,232,233,234]]],dtype=np.int32)\n",
    "print((v.shape,v.dtype))\n",
    "v"
   ]
  },
  {
   "cell_type": "code",
   "execution_count": 8,
   "metadata": {},
   "outputs": [
    {
     "data": {
      "text/plain": [
       "134"
      ]
     },
     "execution_count": 8,
     "metadata": {},
     "output_type": "execute_result"
    }
   ],
   "source": [
    "# you can access the elements of an array through indexes, for example if i want\n",
    "# to access the element in the first position in the first dimension, in the third\n",
    "# position in the second dimension and in the fourth position in the third dimension\n",
    "# i can write (remember that indexes start from zero)\n",
    "v[0,2,3]"
   ]
  },
  {
   "cell_type": "code",
   "execution_count": 13,
   "metadata": {},
   "outputs": [
    {
     "data": {
      "text/plain": [
       "array([[211, 212, 213, 214],\n",
       "       [221, 222, 223, 224],\n",
       "       [231, 232, 233, 234]], dtype=int32)"
      ]
     },
     "execution_count": 13,
     "metadata": {},
     "output_type": "execute_result"
    }
   ],
   "source": [
    "# if I only specify the first indices i get the multidimensional array addressed\n",
    "# by that index (see the figure above)\n",
    "v[1]"
   ]
  },
  {
   "cell_type": "code",
   "execution_count": 16,
   "metadata": {},
   "outputs": [
    {
     "name": "stdout",
     "output_type": "stream",
     "text": [
      "(2, 4)\n"
     ]
    },
    {
     "data": {
      "text/plain": [
       "array([[131, 132, 133, 134],\n",
       "       [231, 232, 233, 234]], dtype=int32)"
      ]
     },
     "execution_count": 16,
     "metadata": {},
     "output_type": "execute_result"
    }
   ],
   "source": [
    "# now assume I want to get all the elements where the index in the second dimension is 2.\n",
    "# To do this I need to use the slice notation, I can index a dimension either using an index\n",
    "# or using a slice, i.e by specifying start:stop:step, where step is optional. If I do not \n",
    "# specify the start and stop the default values are the first and last index in the dimension\n",
    "v[:,2,:]\n"
   ]
  },
  {
   "cell_type": "code",
   "execution_count": 18,
   "metadata": {},
   "outputs": [
    {
     "data": {
      "text/plain": [
       "array([[[121, 123]],\n",
       "\n",
       "       [[221, 223]]], dtype=int32)"
      ]
     },
     "execution_count": 18,
     "metadata": {},
     "output_type": "execute_result"
    }
   ],
   "source": [
    "# Now I want all the elements with an odd position in the second dimension and even position in the\n",
    "# fourth dimension\n",
    "v[:,1::2,::2]"
   ]
  },
  {
   "attachments": {},
   "cell_type": "markdown",
   "metadata": {},
   "source": [
    "## Broadcasting"
   ]
  }
 ],
 "metadata": {
  "kernelspec": {
   "display_name": "tf-gpu",
   "language": "python",
   "name": "python3"
  },
  "language_info": {
   "codemirror_mode": {
    "name": "ipython",
    "version": 3
   },
   "file_extension": ".py",
   "mimetype": "text/x-python",
   "name": "python",
   "nbconvert_exporter": "python",
   "pygments_lexer": "ipython3",
   "version": "3.9.13"
  },
  "orig_nbformat": 4
 },
 "nbformat": 4,
 "nbformat_minor": 2
}
