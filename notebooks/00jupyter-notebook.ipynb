{
 "cells": [
  {
   "attachments": {},
   "cell_type": "markdown",
   "metadata": {},
   "source": [
    "# What is a notebook?\n",
    "Notebooks are a new way to present scientific computing results. They allow to mix code cells, executed by a kernel, to markdown cells. In this course we will use the [Jupyter](https://docs.jupyter.org/en/latest/) Notebook with [IPython](https://ipython.readthedocs.io/en/stable/).\n",
    "The image below illustrates the notebook environment.\n",
    "<p align=\"center\">\n",
    "  <img src=\"../imgs/notebook_components.png\"/>\n",
    "</p>\n",
    "\n",
    "\n",
    "\n"
   ]
  },
  {
   "attachments": {},
   "cell_type": "markdown",
   "metadata": {},
   "source": [
    "## IPython\n",
    "IPython is a python interpreter with some additional features, the most important one is the Decoupled two-process model. The standard python interpreter implements a Read-Evaluate-Print Loop (REPL), that is an infinite loop that reads the input command, executes the command and prints the output to the standard output. The IPython interpreter instead decouples the evaluation into its own process, called **kernel**. A kernel receives the commands from the clients and communicates the results back to them."
   ]
  },
  {
   "attachments": {},
   "cell_type": "markdown",
   "metadata": {},
   "source": [
    "## SetUp\n",
    "To use Jupyter notebooks you need to install the IPython interpreter first, you can use the following command command from your terminal:\n",
    "```bash\n",
    "$ pip install ipykernel\n",
    "```\n",
    "or alternatively, if you are using a conda envirnoment:\n",
    "```bash\n",
    "$ conda install ipykernel\n",
    "```\n",
    "Then you need to install the Jupyter server, again you can use pip:\n",
    "```bash\n",
    "$ pip install jupyter\n",
    "```\n",
    "or a conda environment:\n",
    "```bash\n",
    "$ conda install jupyter\n",
    "```\n"
   ]
  },
  {
   "attachments": {},
   "cell_type": "markdown",
   "metadata": {},
   "source": [
    "## Running\n",
    "Now you are ready to run your first notebook. First create a file with the extension `.ipynb` and start the Jupyter server running the command in the same directory in which you have created your notebook:\n",
    "```bash\n",
    "$ jupyter notebook\n",
    "```\n",
    "If your browser does not start automatically then connect to the web address showed in the terminal, the default is: `http://localhost:8888`.\n",
    "Alternatively you can use the [Jupyter vscode extension](https://marketplace.visualstudio.com/items?itemName=ms-toolsai.jupyter) to visualize and edit the notebook directly in Visual Studio Code.\n",
    "I recommend this second option because it allows you to debug the code cells like you would do with a standard Python file."
   ]
  },
  {
   "attachments": {},
   "cell_type": "markdown",
   "metadata": {},
   "source": [
    "## Notebook from Visual Studio Code\n",
    "Code cell are executed in the order specified by the user, you can run a single cell hitting the &#9654; button on the left of the cell, or you can select `Run All` from the top bar to execute all the cells in order.\n",
    "\n",
    "If you have multiple Python environments with the IPython interpreter installed you can choose the desired environment from the top right menu as shown in the figure.\n",
    "\n",
    "<img src=\"../imgs/icon02.png\"/>\n",
    "\n",
    "To debug a cell:\n",
    "- execute all the cells before hitting the <img src=\"../imgs/icon00.png\"/> button that you find on the right bar that happears once you select a code cell.\n",
    "- then select `Debug Cell` as shown in the figure below. Do not forget to insert a breakpoint first :)\n",
    "\n",
    "<img src=\"../imgs/icon01.png\"/>"
   ]
  },
  {
   "attachments": {},
   "cell_type": "markdown",
   "metadata": {},
   "source": [
    "# Magic Functions\n",
    "Another important feature of IPython is a set of functions that can be used to customize the environment or call OS routines. These functions are called [magic functions](https://ipython.readthedocs.io/en/stable/interactive/magics.html) and are called in the code cells using the syntax `%function_name [arg1] [arg2] ... [argn]`. \n",
    "For example you can change the current directory or list the files in the current directory as shown in the cell below"
   ]
  },
  {
   "cell_type": "code",
   "execution_count": 2,
   "metadata": {},
   "outputs": [
    {
     "name": "stdout",
     "output_type": "stream",
     "text": [
      "/home/giorg/repos/Machine-Learning-2023-Private/imgs\n",
      "totale 52\n",
      "-rwxr-xr-x 1 giorg giorg   501 apr 15 16:28 \u001b[0m\u001b[01;32micon00.png\u001b[0m*\n",
      "-rwxr-xr-x 1 giorg giorg  4514 apr 15 16:34 \u001b[01;32micon01.png\u001b[0m*\n",
      "-rwxr-xr-x 1 giorg giorg 22544 apr 15 16:41 \u001b[01;32micon02.png\u001b[0m*\n",
      "-rw-r--r-- 1 giorg giorg 14150 apr 15 16:03 \u001b[01;35mnotebook_components.png\u001b[0m\n"
     ]
    }
   ],
   "source": [
    "%cd ../imgs\n",
    "%ls -ll"
   ]
  }
 ],
 "metadata": {
  "kernelspec": {
   "display_name": "tf-gpu",
   "language": "python",
   "name": "python3"
  },
  "language_info": {
   "codemirror_mode": {
    "name": "ipython",
    "version": 3
   },
   "file_extension": ".py",
   "mimetype": "text/x-python",
   "name": "python",
   "nbconvert_exporter": "python",
   "pygments_lexer": "ipython3",
   "version": "3.9.13"
  },
  "orig_nbformat": 4,
  "vscode": {
   "interpreter": {
    "hash": "7d698c4d732c7156a90912d538a22a5a49e7204b580b979787628e77f0c9ef8c"
   }
  }
 },
 "nbformat": 4,
 "nbformat_minor": 2
}
