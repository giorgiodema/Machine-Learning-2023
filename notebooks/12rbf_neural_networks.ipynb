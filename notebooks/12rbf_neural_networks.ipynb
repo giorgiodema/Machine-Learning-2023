{
 "cells": [
  {
   "attachments": {},
   "cell_type": "markdown",
   "metadata": {},
   "source": [
    "# Radial Basis Functions Neural Networks\n",
    "A RBF network is an alternative to a Feedforward neural network, and it mixes ideas from unsupervised and supervised learning. A RBF network for a C classes classification problem is based on K prototypes, such that the classification depends on the __distance__ between the point and the K prototypes. A RBF network consists in 3 layers as shown in the following [figure](https://mccormickml.com/2013/08/15/radial-basis-function-network-rbfn-tutorial/):\n",
    "\n",
    "<p align=\"center\">\n",
    "  <img src=\"../imgs/architecture_simple2.png\"/ width=50%>\n",
    "</p>\n",
    "\n"
   ]
  },
  {
   "attachments": {},
   "cell_type": "markdown",
   "metadata": {},
   "source": [
    "The distance between an input sample x and a prototype $\\mu_i$ is given by a Radial Basis Function (i.e. a function that depends on the distance)."
   ]
  },
  {
   "cell_type": "code",
   "execution_count": null,
   "metadata": {},
   "outputs": [],
   "source": []
  }
 ],
 "metadata": {
  "language_info": {
   "name": "python"
  },
  "orig_nbformat": 4
 },
 "nbformat": 4,
 "nbformat_minor": 2
}
