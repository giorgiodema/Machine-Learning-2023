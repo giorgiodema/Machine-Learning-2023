{
 "cells": [
  {
   "attachments": {},
   "cell_type": "markdown",
   "metadata": {},
   "source": [
    "# Supervised Learning\n",
    "In this notebook we will explain briefly the most used supervised learning algorithms for both classificaiton and regression and we will apply them to a real datasets and compare the performances. We will use the Python package [SKLearn](https://scikit-learn.org/) that implements a lot of machine learning algorithms.\n",
    "\n",
    "Before comparing the models on the selected dataset let us introduce a fundamental concept that will help us understand better the concepts of overfitting, underfitting and the regularization techniques: the bias-variance decomposition."
   ]
  },
  {
   "attachments": {},
   "cell_type": "markdown",
   "metadata": {},
   "source": [
    "## The Curse of Dimensionality\n",
    "The curs of dimensionality refers to the problems encountered when learning in high dimensions. In particular the volume of the data space increases exponentially with respect to the number of dimensions, and the space becomes sparse. This means that the density of the data space decreases when the number of dimensions increases, meaking more difficult to learn patterns in data because I've fewer examples per volume unit. "
   ]
  },
  {
   "attachments": {},
   "cell_type": "markdown",
   "metadata": {},
   "source": [
    "## Bias Variance Decomposition\n",
    "The error of an estimator (that in our case is the Machine Learning model) can be decomposed into two terms: a bias term and a variance term. Imagine we could train the same model on many different datasets. The bias tells how much is the error if we take the average of the predictions from these models, while the variance term is the variance of predictions obtained by these models. Matematically \n",
    "$$\n",
    "Err(x) = \\mathbb{E}_{\\hat{f}}[(\\mathbb{E}_{\\hat{f}}[\\hat{f}(x)]-f(x))^2] + \\mathbb{E}_{\\hat{f}}[(\\hat{f}(x)-\\mathbb{E}_{\\hat{f}}[\\hat{f}(x)])^2]\n",
    "$$\n",
    "Where $\\hat{f}$ is the predicted function and $f$ is the true function. Note the expectation over the models trained on different datasets.\n",
    "Bias and variance are represented in the following image, borrowed from this [great article](http://scott.fortmann-roe.com/docs/BiasVariance.html) on bias-variance decomposition:\n",
    "<p align=\"center\">\n",
    "  <img src=\"../imgs/biasvariance.png\"/ width=30%>\n",
    "</p>\n",
    "As we can see from the picture, an estimator with high bias and low variance will return on average a value that is different from the true value, but the predicted values will be similar. While an estimator with low bias and high variance will return the correct value on average, but the predicted values will change a lot. \n",
    "The bias variance decomposition is a different way to express the concepts of overfitting and underfitting. If we increase the model capacity we reduce the bias but we might increase variance and vice versa. As shown by the figure:\n",
    "<p align=\"center\">\n",
    "  <img src=\"../imgs/overunderfitting.png\"/ width=30%>\n",
    "</p>\n",
    "\n"
   ]
  },
  {
   "attachments": {},
   "cell_type": "markdown",
   "metadata": {},
   "source": [
    "## Regression\n",
    "For the regression models we will use the Diabetes dataset that represents patients in a 10-dimensional feature space, where the features are:\n",
    "- age age in years\n",
    "- sex\n",
    "- bmi body mass index\n",
    "- bp average blood pressure\n",
    "- s1 tc, total serum cholesterol\n",
    "- s2 ldl, low-density lipoproteins\n",
    "- s3 hdl, high-density lipoproteins\n",
    "- s4 tch, total cholesterol / HDL\n",
    "- s5 ltg, possibly log of serum triglycerides level\n",
    "- s6 glu, blood sugar level\n",
    "\n",
    "The feature variables are mean centered and scaled by the standard deviation times the square root of n_samples.\n",
    "The targets $Y$ are integers in the range $[25,346]$ and are a quantitative measure of disease progression one year after the measurements."
   ]
  },
  {
   "cell_type": "code",
   "execution_count": 34,
   "metadata": {},
   "outputs": [],
   "source": [
    "import numpy as np\n",
    "import sklearn\n",
    "from sklearn.datasets import load_diabetes"
   ]
  },
  {
   "cell_type": "code",
   "execution_count": 35,
   "metadata": {},
   "outputs": [
    {
     "name": "stdout",
     "output_type": "stream",
     "text": [
      "(442, 10),(442,)\n"
     ]
    }
   ],
   "source": [
    "X,Y = load_diabetes(return_X_y=True)\n",
    "print(f\"{X.shape},{Y.shape}\")"
   ]
  },
  {
   "attachments": {},
   "cell_type": "markdown",
   "metadata": {},
   "source": [
    "We use 90% of the data for training and 10% for testing. First we shuffle the data so that we can assume that data are not ordered."
   ]
  },
  {
   "cell_type": "code",
   "execution_count": 36,
   "metadata": {},
   "outputs": [
    {
     "name": "stdout",
     "output_type": "stream",
     "text": [
      "(397, 10),(397,)\n",
      "(45, 10),(45,)\n"
     ]
    }
   ],
   "source": [
    "X,Y = sklearn.utils.shuffle(X,Y,random_state=9)\n",
    "\n",
    "X_train = X[0:int(0.9 * X.shape[0])]\n",
    "Y_train = Y[0:int(0.9 * X.shape[0])]\n",
    "X_test  = X[int(0.9 * X.shape[0]):]\n",
    "Y_test  = Y[int(0.9 * X.shape[0]):]\n",
    "\n",
    "print(f\"{X_train.shape},{Y_train.shape}\")\n",
    "print(f\"{X_test.shape},{Y_test.shape}\")"
   ]
  },
  {
   "attachments": {},
   "cell_type": "markdown",
   "metadata": {},
   "source": [
    "### K Nearest Neighbors\n",
    "Each estimators in sklearn have a score method providing a default evaluation criterion for the problem they are designed to solve. From the documentation we read that the score method of the KNeighborsClassifier returns the coefficient of determination. that is defined as $(1-\\frac{u}{v})$, where $u$ is the residual sum of squares `((y_true - y_pred)** 2).sum()` and $v$ is the total sum of squares `((y_true - y_true.mean()) ** 2).sum()`. The best possible score is 1.0 and it can be negative (because the model can be arbitrarily worse). A constant model that always predicts the expected value of y, disregarding the input features, would get a \n",
    "score of 0.0."
   ]
  },
  {
   "cell_type": "code",
   "execution_count": 37,
   "metadata": {},
   "outputs": [
    {
     "name": "stdout",
     "output_type": "stream",
     "text": [
      "Coefficient of determination (Trainset): 0.17884130982367757\n",
      "Coefficient of determination (Testset): 0.0\n"
     ]
    }
   ],
   "source": [
    "from sklearn.neighbors import KNeighborsClassifier\n",
    "model = KNeighborsClassifier(n_neighbors=5)\n",
    "model.fit(X_train,Y_train)\n",
    "print(f\"Coefficient of determination (Trainset): {model.score(X_train,Y_train)}\")\n",
    "print(f\"Coefficient of determination (Testset): {model.score(X_test,Y_test)}\")"
   ]
  },
  {
   "cell_type": "code",
   "execution_count": 38,
   "metadata": {},
   "outputs": [
    {
     "name": "stdout",
     "output_type": "stream",
     "text": [
      "Some predictions on the Testset:\n",
      "\t\tY_true:[138.  91.  99. 170. 317. 281. 142. 144. 155. 280.] \n",
      "\t\tY_pred:[144. 171. 220.  87. 192. 109. 107.  25. 150. 195.]\n",
      "Some predictions on the Trainset:\n",
      "\t\tY_true:[104. 118. 186. 132. 199. 215. 279. 135.  65.  70.],\n",
      "\t\tY_pred:[ 55.  65. 186.  44.  71.  67. 109.  50.  65.  71.]\n"
     ]
    }
   ],
   "source": [
    "Y_pred = model.predict(X_test)\n",
    "print(f\"Some predictions on the Testset:\\n\\t\\tY_true:{Y_test[0:10]} \\n\\t\\tY_pred:{Y_pred[0:10]}\")\n",
    "Y_pred = model.predict(X_train)\n",
    "print(f\"Some predictions on the Trainset:\\n\\t\\tY_true:{Y_train[0:10]},\\n\\t\\tY_pred:{Y_pred[0:10]}\")"
   ]
  },
  {
   "attachments": {},
   "cell_type": "markdown",
   "metadata": {},
   "source": [
    "### Linear Regression\n",
    "This is the standard Linear regression we implemented from scratch in the previous lecture. The minimization objective is:\n",
    "$$\n",
    "|| \\mathbf{y} - \\mathbb{X} \\mathbf{w} ||^2\n",
    "$$"
   ]
  },
  {
   "cell_type": "code",
   "execution_count": 39,
   "metadata": {},
   "outputs": [
    {
     "name": "stdout",
     "output_type": "stream",
     "text": [
      "Coefficient of determination (Trainset): 0.5413921609396912\n",
      "Coefficient of determination (Testset): 0.29612044394293746\n"
     ]
    }
   ],
   "source": [
    "from sklearn.linear_model import LinearRegression\n",
    "model = LinearRegression()\n",
    "model.fit(X_train,Y_train)\n",
    "print(f\"Coefficient of determination (Trainset): {model.score(X_train,Y_train)}\")\n",
    "print(f\"Coefficient of determination (Testset): {model.score(X_test,Y_test)}\")"
   ]
  },
  {
   "cell_type": "code",
   "execution_count": 40,
   "metadata": {},
   "outputs": [
    {
     "name": "stdout",
     "output_type": "stream",
     "text": [
      "Some predictions on the Testset:\n",
      "\t\tY_true:[138  91  99 170 317 281 142 144 155 280] \n",
      "\t\tY_pred:[171 150 231  90 224 196 190 124 219 235]\n",
      "Some predictions on the Trainset:\n",
      "\t\tY_true:[104 118 186 132 199 215 279 135  65  70],\n",
      "\t\tY_pred:[ 75  96 202 121 111 248 216 126 122  62]\n"
     ]
    }
   ],
   "source": [
    "Y_pred = model.predict(X_test)\n",
    "print(f\"Some predictions on the Testset:\\n\\t\\tY_true:{Y_test[0:10].astype(np.int32)} \\n\\t\\tY_pred:{Y_pred[0:10].astype(np.int32)}\")\n",
    "Y_pred = model.predict(X_train)\n",
    "print(f\"Some predictions on the Trainset:\\n\\t\\tY_true:{Y_train[0:10].astype(np.int32)},\\n\\t\\tY_pred:{Y_pred[0:10].astype(np.int32)}\")"
   ]
  },
  {
   "attachments": {},
   "cell_type": "markdown",
   "metadata": {},
   "source": [
    "### Regularization\n",
    "Regularization is an indictive bias that results in favoring some hypotheses over others. The most used regularization techniques are:\n",
    "- __L1 regularization__ where the L1 norm of the parameters:\n",
    "$$\n",
    "L1(w\\in \\mathbb{R}^d) = \\sum_i^d |w_i|\n",
    "$$\n",
    "is minimized together with the objective. The linear regression with L1 regularization is called Lasso Regression. This technique promote a sparse solution (in which most weights are zero). This helps to escape the curse of dimensionality because only relevant features (dimensions) contribute to the solution.\n",
    "\n",
    "- __L2 regularization__ where the L2 norm of the parameters:\n",
    "$$\n",
    "L2(w\\in \\mathbb{R}^d) = \\sqrt{\\sum_i^d w_i^2}\n",
    "$$\n",
    "is minimized together with the objective. The linear regression with L2 regularization is called Ridge Regression. This regularization technique reduces the variance at the expense of the bias.\n"
   ]
  },
  {
   "attachments": {},
   "cell_type": "markdown",
   "metadata": {},
   "source": [
    "### Lasso Linear Regression"
   ]
  },
  {
   "cell_type": "code",
   "execution_count": 41,
   "metadata": {},
   "outputs": [
    {
     "name": "stdout",
     "output_type": "stream",
     "text": [
      "Coefficient of determination (Trainset): 0.382943118645549\n",
      "Coefficient of determination (Testset): 0.21692207839766886\n"
     ]
    }
   ],
   "source": [
    "from sklearn.linear_model import Lasso\n",
    "model = Lasso(alpha=1.)\n",
    "model.fit(X_train,Y_train)\n",
    "print(f\"Coefficient of determination (Trainset): {model.score(X_train,Y_train)}\")\n",
    "print(f\"Coefficient of determination (Testset): {model.score(X_test,Y_test)}\")"
   ]
  },
  {
   "cell_type": "code",
   "execution_count": 42,
   "metadata": {},
   "outputs": [
    {
     "name": "stdout",
     "output_type": "stream",
     "text": [
      "Some predictions on the Testset:\n",
      "\t\tY_true:[138  91  99 170 317 281 142 144 155 280] \n",
      "\t\tY_pred:[158 140 189 125 184 164 168 130 167 177]\n",
      "Some predictions on the Trainset:\n",
      "\t\tY_true:[104 118 186 132 199 215 279 135  65  70],\n",
      "\t\tY_pred:[111 127 187 131 128 197 188 127 135 103]\n"
     ]
    }
   ],
   "source": [
    "Y_pred = model.predict(X_test)\n",
    "print(f\"Some predictions on the Testset:\\n\\t\\tY_true:{Y_test[0:10].astype(np.int32)} \\n\\t\\tY_pred:{Y_pred[0:10].astype(np.int32)}\")\n",
    "Y_pred = model.predict(X_train)\n",
    "print(f\"Some predictions on the Trainset:\\n\\t\\tY_true:{Y_train[0:10].astype(np.int32)},\\n\\t\\tY_pred:{Y_pred[0:10].astype(np.int32)}\")"
   ]
  },
  {
   "attachments": {},
   "cell_type": "markdown",
   "metadata": {},
   "source": [
    "### Ridge Regression"
   ]
  },
  {
   "cell_type": "code",
   "execution_count": 43,
   "metadata": {},
   "outputs": [
    {
     "name": "stdout",
     "output_type": "stream",
     "text": [
      "Coefficient of determination (Trainset): 0.4613537648625582\n",
      "Coefficient of determination (Testset): 0.32552492063229144\n"
     ]
    }
   ],
   "source": [
    "from sklearn.linear_model import Ridge\n",
    "model = Ridge(alpha=1)\n",
    "model.fit(X_train,Y_train)\n",
    "print(f\"Coefficient of determination (Trainset): {model.score(X_train,Y_train)}\")\n",
    "print(f\"Coefficient of determination (Testset): {model.score(X_test,Y_test)}\")"
   ]
  },
  {
   "cell_type": "code",
   "execution_count": 44,
   "metadata": {},
   "outputs": [
    {
     "name": "stdout",
     "output_type": "stream",
     "text": [
      "Some predictions on the Testset:\n",
      "\t\tY_true:[138  91  99 170 317 281 142 144 155 280] \n",
      "\t\tY_pred:[178 163 185 102 210 174 177 124 201 193]\n",
      "Some predictions on the Trainset:\n",
      "\t\tY_true:[104 118 186 132 199 215 279 135  65  70],\n",
      "\t\tY_pred:[100 130 193 140 131 208 193 133 143  89]\n"
     ]
    }
   ],
   "source": [
    "Y_pred = model.predict(X_test)\n",
    "print(f\"Some predictions on the Testset:\\n\\t\\tY_true:{Y_test[0:10].astype(np.int32)} \\n\\t\\tY_pred:{Y_pred[0:10].astype(np.int32)}\")\n",
    "Y_pred = model.predict(X_train)\n",
    "print(f\"Some predictions on the Trainset:\\n\\t\\tY_true:{Y_train[0:10].astype(np.int32)},\\n\\t\\tY_pred:{Y_pred[0:10].astype(np.int32)}\")"
   ]
  },
  {
   "attachments": {},
   "cell_type": "markdown",
   "metadata": {},
   "source": [
    "### Kernel Trick\n",
    "In linear regression models the prediciton can be expressed in terms of a similarity measure $K(x_i,x_j)$, where $x_i$ and $x_j$ are vectors in the input space.\n",
    "Given the input data matrix:\n",
    "$$\n",
    "\\mathbb{X} = \n",
    "\\begin{pmatrix}\n",
    "1 & x_1^1 & ... & x_1^d \\\\\n",
    ".&.&.&...&.\\\\\n",
    ".&.&.&...&.\\\\\n",
    ".&.&.&...&.\\\\\n",
    "1& x_n^1 & ... & x_n^d \\\\\n",
    "\\end{pmatrix}\n",
    "$$\n",
    "(where d is the dimensionality of the data space and n is the number of samples in the traininset) and the vectors with the true values:\n",
    "$$\n",
    "\\mathbb{Y} = \\begin{pmatrix}y_1 & . & . & . &y_n\\end{pmatrix}\n",
    "$$\n",
    "we know that the closed form solution for the parameters is:\n",
    "$$\n",
    "\\mathbf{w} = \\frac{\\mathbb{X}^T\\mathbb{Y}}{(\\mathbb{X}^T\\mathbb{X})-1}\n",
    "$$\n",
    "Now given a input matrix $\\hat{\\mathbb{X}}$ organized as $\\mathbb{X}$ we can compute the vector with the predictions as:\n",
    "$$\n",
    "\\hat{\\mathbb{Y}} = \\hat{\\mathbb{X}}\\mathbf{w} = \\frac{\\hat{\\mathbb{X}}\\mathbb{X}^T\\mathbb{Y}}{(\\mathbb{X}^T\\mathbb{X})^{-1}}\n",
    "$$\n",
    "Now we can observe that the elements of the matrices $\\hat{\\mathbb{X}}\\mathbb{X}^T$ and $\\mathbb{X}^T\\mathbb{X}$ can be all expressed as inner products:\n",
    "$$\n",
    "(\\hat{\\mathbb{X}}\\mathbb{X}^T)_{ij} = <\\hat{\\mathbf{x}}_i,\\mathbf{x}_j>\n",
    "$$\n",
    "$$\n",
    "(\\mathbb{X}\\mathbb{X}^T)_{ij} = <\\mathbf{x}_i,\\mathbf{x}_j>\n",
    "$$\n",
    "If we want express the points in a different feature space, we can apply the (also nonlinear) function $\\phi$ to each point:\n",
    "$$\n",
    "\\Phi(x) = \n",
    "\\begin{pmatrix}\\phi_1(x)&.&.&\\phi_n(x)\\end{pmatrix}\n",
    "$$\n",
    "so that instead of the dot products between input vectors $<\\mathbf{x_1},\\mathbf{x_j}>$ we need to compute the dot products between feature vectors\n",
    "$$\n",
    "<\\Phi(x_i),\\Phi(x_j)>\n",
    "$$\n",
    "and feature vectors can have an arbitrary number of dimensions, even infinite.\n",
    "The kernel trick consists in replacing $<\\Phi(x_i),\\Phi(x_j)>$ with an arbitrary similarity measure $K(x_i,x_j)$ that corresponds to the inner product in a feature space. In order to correspond to a valid inner product K must be positive-definite. Some common choices are:\n",
    "- __the polynomial kernel__ $k(x,z) = (1+x^Tz)^d$ that correspond to the inner product in a feature space in which $\\Phi(x)$ is the vector formed by all the products between the components of $x \\in R^n$ up to degree d.\n",
    "- __the gaussian kernel__  $k(x,z) = e^{-\\gamma ||x-z||^2}$ that corresponds to an infinite dimensional feature space."
   ]
  },
  {
   "attachments": {},
   "cell_type": "markdown",
   "metadata": {},
   "source": [
    "### Ridge Regression with Kernel Trick\n",
    "With gaussian kernel"
   ]
  },
  {
   "cell_type": "code",
   "execution_count": 45,
   "metadata": {},
   "outputs": [
    {
     "name": "stdout",
     "output_type": "stream",
     "text": [
      "Coefficient of determination (Trainset): 0.5016447488558985\n",
      "Coefficient of determination (Testset): 0.3278467287314403\n"
     ]
    }
   ],
   "source": [
    "from sklearn.kernel_ridge import KernelRidge\n",
    "import math\n",
    "\n",
    "def gaussian_kernel(x,y):\n",
    "    return math.exp((-np.sum((x-y)**2)))\n",
    "\n",
    "model = KernelRidge(alpha=1,kernel=gaussian_kernel)\n",
    "model.fit(X_train,Y_train)\n",
    "print(f\"Coefficient of determination (Trainset): {model.score(X_train,Y_train)}\")\n",
    "print(f\"Coefficient of determination (Testset): {model.score(X_test,Y_test)}\")"
   ]
  },
  {
   "cell_type": "code",
   "execution_count": 46,
   "metadata": {},
   "outputs": [
    {
     "name": "stdout",
     "output_type": "stream",
     "text": [
      "Some predictions on the Testset:\n",
      "\t\tY_true:[138  91  99 170 317 281 142 144 155 280] \n",
      "\t\tY_pred:[176 158 199  91 211 182 182 124 208 206]\n",
      "Some predictions on the Trainset:\n",
      "\t\tY_true:[104 118 186 132 199 215 279 135  65  70],\n",
      "\t\tY_pred:[ 90 122 196 136 124 222 201 131 139  78]\n"
     ]
    }
   ],
   "source": [
    "Y_pred = model.predict(X_test)\n",
    "print(f\"Some predictions on the Testset:\\n\\t\\tY_true:{Y_test[0:10].astype(np.int32)} \\n\\t\\tY_pred:{Y_pred[0:10].astype(np.int32)}\")\n",
    "Y_pred = model.predict(X_train)\n",
    "print(f\"Some predictions on the Trainset:\\n\\t\\tY_true:{Y_train[0:10].astype(np.int32)},\\n\\t\\tY_pred:{Y_pred[0:10].astype(np.int32)}\")"
   ]
  },
  {
   "attachments": {},
   "cell_type": "markdown",
   "metadata": {},
   "source": [
    "with polynomial kernel"
   ]
  },
  {
   "cell_type": "code",
   "execution_count": 47,
   "metadata": {},
   "outputs": [
    {
     "name": "stdout",
     "output_type": "stream",
     "text": [
      "Coefficient of determination (Trainset): 0.5371856613273562\n",
      "Coefficient of determination (Testset): 0.3287911277020671\n"
     ]
    }
   ],
   "source": [
    "def poly_kernel(x,y,deg=5):\n",
    "    return (1 + x.T @ y)**deg\n",
    "\n",
    "model = KernelRidge(alpha=1,kernel=poly_kernel)\n",
    "model.fit(X_train,Y_train)\n",
    "print(f\"Coefficient of determination (Trainset): {model.score(X_train,Y_train)}\")\n",
    "print(f\"Coefficient of determination (Testset): {model.score(X_test,Y_test)}\")"
   ]
  },
  {
   "cell_type": "code",
   "execution_count": 48,
   "metadata": {},
   "outputs": [
    {
     "name": "stdout",
     "output_type": "stream",
     "text": [
      "Some predictions on the Testset:\n",
      "\t\tY_true:[138  91  99 170 317 281 142 144 155 280] \n",
      "\t\tY_pred:[173 151 211  88 219 185 182 123 215 218]\n",
      "Some predictions on the Trainset:\n",
      "\t\tY_true:[104 118 186 132 199 215 279 135  65  70],\n",
      "\t\tY_pred:[ 82 109 200 128 118 234 207 127 129  73]\n"
     ]
    }
   ],
   "source": [
    "Y_pred = model.predict(X_test)\n",
    "print(f\"Some predictions on the Testset:\\n\\t\\tY_true:{Y_test[0:10].astype(np.int32)} \\n\\t\\tY_pred:{Y_pred[0:10].astype(np.int32)}\")\n",
    "Y_pred = model.predict(X_train)\n",
    "print(f\"Some predictions on the Trainset:\\n\\t\\tY_true:{Y_train[0:10].astype(np.int32)},\\n\\t\\tY_pred:{Y_pred[0:10].astype(np.int32)}\")"
   ]
  },
  {
   "attachments": {},
   "cell_type": "markdown",
   "metadata": {},
   "source": [
    "## Classification\n",
    "For the classification models we will use the Breast cancer wisconsin dataset, wich aggregates data from 569 patients affected by breast cancer. The features are:\n",
    "- radius (mean of distances from center to points on the perimeter)\n",
    "- texture (standard deviation of gray-scale values)\n",
    "- perimeter\n",
    "- area\n",
    "- smoothness (local variation in radius lengths)\n",
    "- compactness (perimeter^2 / area - 1.0)\n",
    "- concavity (severity of concave portions of the contour)\n",
    "- concave points (number of concave portions of the contour)\n",
    "- symmetry\n",
    "- fractal dimension (“coastline approximation” - 1)\n",
    "\n",
    "And the two classes are __Malignant__ and __Benign__."
   ]
  },
  {
   "cell_type": "code",
   "execution_count": 79,
   "metadata": {},
   "outputs": [
    {
     "name": "stdout",
     "output_type": "stream",
     "text": [
      "(512, 30),(512,)\n",
      "(57, 30),(57,)\n"
     ]
    }
   ],
   "source": [
    "from sklearn.datasets import load_breast_cancer\n",
    "X_breast,Y_breast = load_breast_cancer(return_X_y=True)\n",
    "X_breast,Y_breast = sklearn.utils.shuffle(X,Y,random_state=9)\n",
    "\n",
    "X_breast_train = X_breast[0:int(0.9 * X_breast.shape[0])]\n",
    "Y_breast_train = Y_breast[0:int(0.9 * X_breast.shape[0])]\n",
    "X_breast_test  = X_breast[int(0.9 * X_breast.shape[0]):]\n",
    "Y_breast_test  = Y_breast[int(0.9 * X_breast.shape[0]):]\n",
    "\n",
    "print(f\"{X_breast_train.shape},{Y_breast_train.shape}\")\n",
    "print(f\"{X_breast_test.shape},{Y_breast_test.shape}\")"
   ]
  },
  {
   "attachments": {},
   "cell_type": "markdown",
   "metadata": {},
   "source": [
    "### Logistic Regression\n",
    "Sklearn implements the logistic regression algorithm that we studied in the previous lecture. However it offers a wide choice of optimizers (we studied only gradient descent). For the multi-class case one can choose the one-vs-rest approach or the multiclass discriminant, for more information read the official [documentation](https://scikit-learn.org/stable/modules/generated/sklearn.linear_model.LogisticRegression.html#sklearn.linear_model.LogisticRegression.score)."
   ]
  },
  {
   "cell_type": "code",
   "execution_count": 80,
   "metadata": {},
   "outputs": [
    {
     "name": "stdout",
     "output_type": "stream",
     "text": [
      "Accuracy (Trainset): 0.958984375\n",
      "Accuracy (Testset): 0.9473684210526315\n"
     ]
    }
   ],
   "source": [
    "from sklearn.linear_model import LogisticRegression\n",
    "model = LogisticRegression(max_iter=10000,tol=10**-3)\n",
    "model.fit(X_breast_train,Y_breast_train)\n",
    "print(f\"Accuracy (Trainset): {model.score(X_breast_train,Y_breast_train)}\")\n",
    "print(f\"Accuracy (Testset): {model.score(X_breast_test,Y_breast_test)}\")"
   ]
  },
  {
   "attachments": {},
   "cell_type": "markdown",
   "metadata": {},
   "source": [
    "In the case of LogisticRegression, the __score__ method returns the classification accuracy, that is defined as:\n",
    "$$\n",
    "\\text{acc} = \\frac{\\text{correct classifications}}{\\text{correct classifications}+\\text{wrong classifications}}\n",
    "$$\n",
    "However the accuracy is not always the best metric to measure the performances of a classification model, expecially when the number of samples per class is not balanced. For example assume that in a binary classification dataset there are 90 samples of class 1 and 10 samples of class 2. If the model predicts always class 1 it gets $90\\%$ of accuracy! For this reason we introduce different metrics that can be used together with accuracy to measure the performances of the classification model. \n",
    "\n",
    "In the case of binary classification, where we have just two classes (positive vs negative) we can define:\n",
    "- __true positives (tp)__: number of positive samples classified as positive\n",
    "- __true negatives (tn)__: number of negative samples classified as negative \n",
    "- __false positives (fp)__: number of negative samples classified as positive\n",
    "- __false negatives (fn)__: number of positive samples classified as negative\n",
    "- $\\text{precision (or specificity)} = \\frac{tp}{tp + fp}$\n",
    "- $\\text{recall (or sensitivity)} = \\frac{tp}{tp + fn}$\n",
    "\n",
    "For multi-class classification problems we can define the __confusion matrix__ as the matrix __C__ where the element $\\textbf{C}_{ij}$ is the number of observations that belongs to class __i__ that are classified by the model as __j__. "
   ]
  },
  {
   "cell_type": "code",
   "execution_count": 81,
   "metadata": {},
   "outputs": [
    {
     "name": "stdout",
     "output_type": "stream",
     "text": [
      "Precision = 0.9473684210526315\n",
      "Recall = 0.972972972972973\n"
     ]
    }
   ],
   "source": [
    "from sklearn.metrics import precision_score, recall_score\n",
    "Y_breast_test_pred = model.predict(X_breast_test)\n",
    "print(f\"Precision = {precision_score(Y_breast_test,Y_breast_test_pred)}\")\n",
    "print(f\"Recall = {recall_score(Y_breast_test,Y_breast_test_pred)}\")"
   ]
  },
  {
   "attachments": {},
   "cell_type": "markdown",
   "metadata": {},
   "source": [
    "As an example of multi-class classification we can use the Iris plants datasets, that contains 4 classes of flowers and the attributes are: sepal lengthm sepal width, petal length and petal width."
   ]
  },
  {
   "cell_type": "code",
   "execution_count": 82,
   "metadata": {},
   "outputs": [
    {
     "name": "stdout",
     "output_type": "stream",
     "text": [
      "(135, 4),(135,)\n",
      "(15, 4),(15,)\n"
     ]
    }
   ],
   "source": [
    "from sklearn.datasets import load_iris\n",
    "X_iris,Y_iris = load_iris(return_X_y=True)\n",
    "X_iris,Y_iris = sklearn.utils.shuffle(X_iris,Y_iris,random_state=9)\n",
    "\n",
    "X_iris_train = X_iris[0:int(0.9 * X_iris.shape[0])]\n",
    "Y_iris_train = Y_iris[0:int(0.9 * X_iris.shape[0])]\n",
    "X_iris_test  = X_iris[int(0.9 * X_iris.shape[0]):]\n",
    "Y_iris_test  = Y_iris[int(0.9 * X_iris.shape[0]):]\n",
    "\n",
    "print(f\"{X_iris_train.shape},{Y_iris_train.shape}\")\n",
    "print(f\"{X_iris_test.shape},{Y_iris_test.shape}\")"
   ]
  },
  {
   "cell_type": "code",
   "execution_count": 83,
   "metadata": {},
   "outputs": [
    {
     "name": "stdout",
     "output_type": "stream",
     "text": [
      "Accuracy (Testset): 1.0\n"
     ]
    },
    {
     "name": "stderr",
     "output_type": "stream",
     "text": [
      "/home/giorg/miniconda3/envs/tf-gpu/lib/python3.9/site-packages/sklearn/linear_model/_logistic.py:458: ConvergenceWarning: lbfgs failed to converge (status=1):\n",
      "STOP: TOTAL NO. of ITERATIONS REACHED LIMIT.\n",
      "\n",
      "Increase the number of iterations (max_iter) or scale the data as shown in:\n",
      "    https://scikit-learn.org/stable/modules/preprocessing.html\n",
      "Please also refer to the documentation for alternative solver options:\n",
      "    https://scikit-learn.org/stable/modules/linear_model.html#logistic-regression\n",
      "  n_iter_i = _check_optimize_result(\n"
     ]
    }
   ],
   "source": [
    "from sklearn.metrics import confusion_matrix\n",
    "\n",
    "model_iris = LogisticRegression()\n",
    "model_iris.fit(X_iris_train,Y_iris_train)\n",
    "print(f\"Accuracy (Testset): {model_iris.score(X_iris_test,Y_iris_test)}\")"
   ]
  },
  {
   "cell_type": "code",
   "execution_count": 84,
   "metadata": {},
   "outputs": [
    {
     "data": {
      "text/plain": [
       "(3, 3)"
      ]
     },
     "execution_count": 84,
     "metadata": {},
     "output_type": "execute_result"
    }
   ],
   "source": [
    "conf_matrix = confusion_matrix(Y_iris_test,model_iris.predict(X_iris_test))\n",
    "conf_matrix.shape"
   ]
  },
  {
   "cell_type": "code",
   "execution_count": 85,
   "metadata": {},
   "outputs": [
    {
     "data": {
      "application/vnd.jupyter.widget-view+json": {
       "model_id": "70957f56685f40fc876c2ffd3796f7c3",
       "version_major": 2,
       "version_minor": 0
      },
      "image/png": "[encoded data removed]",
      "text/html": [
       "\n",
       "            <div style=\"display: inline-block;\">\n",
       "                <div class=\"jupyter-widgets widget-label\" style=\"text-align: center;\">\n",
       "                    Figure\n",
       "                </div>\n",
       "                <img src='data:image/png;base64,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' width=640.0/>\n",
       "            </div>\n",
       "        "
      ],
      "text/plain": [
       "Canvas(toolbar=Toolbar(toolitems=[('Home', 'Reset original view', 'home', 'home'), ('Back', 'Back to previous …"
      ]
     },
     "metadata": {},
     "output_type": "display_data"
    }
   ],
   "source": [
    "%matplotlib ipympl\n",
    "import matplotlib.pyplot as plt\n",
    "fig,ax = plt.subplots()\n",
    "ax.set_title(\"Confusion Matrix\")\n",
    "plot = ax.imshow(conf_matrix,cmap=\"viridis\")\n",
    "fig.colorbar(plot)\n",
    "plt.xticks(range(min(Y_iris_train),max(Y_iris_train)+1))\n",
    "plt.yticks(range(min(Y_iris_train),max(Y_iris_train)+1))\n",
    "plt.show()"
   ]
  },
  {
   "attachments": {},
   "cell_type": "markdown",
   "metadata": {},
   "source": [
    "## Decision Tree"
   ]
  },
  {
   "attachments": {},
   "cell_type": "markdown",
   "metadata": {},
   "source": [
    "<p align=\"center\">\n",
    "  <img src=\"../imgs/dectree.png\"/ width=50%>\n",
    "</p>"
   ]
  }
 ],
 "metadata": {
  "kernelspec": {
   "display_name": "tf-gpu",
   "language": "python",
   "name": "python3"
  },
  "language_info": {
   "codemirror_mode": {
    "name": "ipython",
    "version": 3
   },
   "file_extension": ".py",
   "mimetype": "text/x-python",
   "name": "python",
   "nbconvert_exporter": "python",
   "pygments_lexer": "ipython3",
   "version": "3.9.13"
  },
  "orig_nbformat": 4
 },
 "nbformat": 4,
 "nbformat_minor": 2
}
