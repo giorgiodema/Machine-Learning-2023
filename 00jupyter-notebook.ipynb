{
 "cells": [
  {
   "attachments": {},
   "cell_type": "markdown",
   "metadata": {},
   "source": [
    "# What is a notebook?\n",
    "Notebooks are a new way to present scientific computing results. They allow to mix code cells, executed by a kernel, to markdown cells. In this course we will use the [Jupyter](https://docs.jupyter.org/en/latest/) Notebook with [IPython](https://ipython.readthedocs.io/en/stable/).\n",
    "The image below illustrates the notebook environment.\n",
    "<p align=\"center\">\n",
    "  <img src=\"imgs/notebook_components.png\"/>\n",
    "</p>\n",
    "\n",
    "\n",
    "\n"
   ]
  },
  {
   "attachments": {},
   "cell_type": "markdown",
   "metadata": {},
   "source": [
    "## IPython\n",
    "IPython is a python interpreter with some additional features, the most important one is the Decoupled two-process model. The standard python interpreter implements a Read-Evaluate-Print Loop (REPL), that is an infinite loop that reads the input command, executes the command and prints the output to the standard output. The IPython interpreter instead decouples the evaluation into its own process, called **kernel**. A kernel receives the commands from the clients and communicates the results back to them."
   ]
  },
  {
   "attachments": {},
   "cell_type": "markdown",
   "metadata": {},
   "source": [
    "## SetUp\n",
    "To use Jupyter notebooks you need to install the IPython interpreter first, you can use the following command command from your terminal:\n",
    "```bash\n",
    "$ pip install ipykernel\n",
    "```\n",
    "or alternatively, if you are using a conda envirnoment:\n",
    "```bash\n",
    "$ conda install ipykernel\n",
    "```\n",
    "Then you need to install the Jupyter server, again you can use pip:\n",
    "```bash\n",
    "$ pip install jupyter\n",
    "```\n",
    "or a conda environment:\n",
    "```bash\n",
    "$ conda install jupyter\n",
    "```\n"
   ]
  },
  {
   "attachments": {},
   "cell_type": "markdown",
   "metadata": {},
   "source": [
    "## Running\n",
    "Now you are ready to run your first notebook. First create a file with the extension `.ipynb` and start the Jupyter server running the command in the same directory in which you have created your notebook:\n",
    "```bash\n",
    "$ jupyter notebook\n",
    "```\n",
    "If your browser does not start automatically then connect to the web address showed in the terminal, the default is: `http://localhost:8888`.\n",
    "Alternatively you can use the [Jupyter vscode extension](https://marketplace.visualstudio.com/items?itemName=ms-toolsai.jupyter) to visualize and edit the notebook directly in Visual Studio Code.\n",
    "I recommend this second option because it allows you to debug the code cells like you would do with a standard Python file. \\\\"
   ]
  }
 ],
 "metadata": {
  "kernelspec": {
   "display_name": "dl",
   "language": "python",
   "name": "python3"
  },
  "language_info": {
   "codemirror_mode": {
    "name": "ipython",
    "version": 3
   },
   "file_extension": ".py",
   "mimetype": "text/x-python",
   "name": "python",
   "nbconvert_exporter": "python",
   "pygments_lexer": "ipython3",
   "version": "3.9.16"
  },
  "orig_nbformat": 4
 },
 "nbformat": 4,
 "nbformat_minor": 2
}
