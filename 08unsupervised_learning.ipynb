{
 "cells": [
  {
   "attachments": {},
   "cell_type": "markdown",
   "metadata": {},
   "source": [
    "# Unsupervised Learning\n",
    "Sometimes we have unlabelled data, but we still want to find some useful representation. This is the kind of tasks we encounter in unsupervised learning. We have already studied Principal Component Analysis (PCA) that is an unsupervised learnin approach that allows to reduce the dimensionality of the data while preserving as much as possible the variance."
   ]
  },
  {
   "cell_type": "code",
   "execution_count": null,
   "metadata": {},
   "outputs": [],
   "source": []
  }
 ],
 "metadata": {
  "language_info": {
   "name": "python"
  },
  "orig_nbformat": 4
 },
 "nbformat": 4,
 "nbformat_minor": 2
}
